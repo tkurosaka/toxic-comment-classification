{
 "cells": [
  {
   "cell_type": "code",
   "execution_count": 1,
   "metadata": {
    "collapsed": true
   },
   "outputs": [],
   "source": [
    "import numpy as np\n",
    "import pandas as pd\n",
    "from __future__ import print_function # Not needed for Kaggle\n",
    "from sklearn.model_selection import train_test_split # Not for Kaggle"
   ]
  },
  {
   "cell_type": "code",
   "execution_count": 2,
   "metadata": {
    "collapsed": false
   },
   "outputs": [
    {
     "name": "stdout",
     "output_type": "stream",
     "text": [
      "sample_submission.csv test.csv              train.csv\r\n"
     ]
    }
   ],
   "source": [
    "!ls data"
   ]
  },
  {
   "cell_type": "code",
   "execution_count": 4,
   "metadata": {
    "collapsed": false
   },
   "outputs": [],
   "source": [
    "trainData = pd.read_csv(\"data/train.csv\") \n",
    "trainData, testData = train_test_split(trainData) # shuffle=False resulted in \"Invalid parameters passed\". Why?\n",
    "subm = pd.read_csv(\"data/sample_submission.csv\")\n",
    "# Kaggle:\n",
    "#trainData = pd.read_csv(\"../input/train.csv\") \n",
    "#testData = pd.read_csv(\"../input/test.csv\")\n",
    "#subm = pd.read_csv('../input/sample_submission.csv')"
   ]
  },
  {
   "cell_type": "code",
   "execution_count": 5,
   "metadata": {
    "collapsed": false
   },
   "outputs": [
    {
     "data": {
      "text/plain": [
       "id               object\n",
       "comment_text     object\n",
       "toxic             int64\n",
       "severe_toxic      int64\n",
       "obscene           int64\n",
       "threat            int64\n",
       "insult            int64\n",
       "identity_hate     int64\n",
       "dtype: object"
      ]
     },
     "execution_count": 5,
     "metadata": {},
     "output_type": "execute_result"
    }
   ],
   "source": [
    "trainData.dtypes"
   ]
  },
  {
   "cell_type": "code",
   "execution_count": 6,
   "metadata": {
    "collapsed": false
   },
   "outputs": [
    {
     "data": {
      "text/html": [
       "<div>\n",
       "<table border=\"1\" class=\"dataframe\">\n",
       "  <thead>\n",
       "    <tr style=\"text-align: right;\">\n",
       "      <th></th>\n",
       "      <th>toxic</th>\n",
       "      <th>severe_toxic</th>\n",
       "      <th>obscene</th>\n",
       "      <th>threat</th>\n",
       "      <th>insult</th>\n",
       "      <th>identity_hate</th>\n",
       "      <th>none</th>\n",
       "    </tr>\n",
       "  </thead>\n",
       "  <tbody>\n",
       "    <tr>\n",
       "      <th>count</th>\n",
       "      <td>119678.000000</td>\n",
       "      <td>119678.000000</td>\n",
       "      <td>119678.000000</td>\n",
       "      <td>119678.000000</td>\n",
       "      <td>119678.000000</td>\n",
       "      <td>119678.000000</td>\n",
       "      <td>119678.000000</td>\n",
       "    </tr>\n",
       "    <tr>\n",
       "      <th>mean</th>\n",
       "      <td>0.095849</td>\n",
       "      <td>0.010102</td>\n",
       "      <td>0.052792</td>\n",
       "      <td>0.003016</td>\n",
       "      <td>0.049282</td>\n",
       "      <td>0.008849</td>\n",
       "      <td>0.898419</td>\n",
       "    </tr>\n",
       "    <tr>\n",
       "      <th>std</th>\n",
       "      <td>0.294385</td>\n",
       "      <td>0.100001</td>\n",
       "      <td>0.223618</td>\n",
       "      <td>0.054839</td>\n",
       "      <td>0.216458</td>\n",
       "      <td>0.093651</td>\n",
       "      <td>0.302098</td>\n",
       "    </tr>\n",
       "    <tr>\n",
       "      <th>min</th>\n",
       "      <td>0.000000</td>\n",
       "      <td>0.000000</td>\n",
       "      <td>0.000000</td>\n",
       "      <td>0.000000</td>\n",
       "      <td>0.000000</td>\n",
       "      <td>0.000000</td>\n",
       "      <td>0.000000</td>\n",
       "    </tr>\n",
       "    <tr>\n",
       "      <th>25%</th>\n",
       "      <td>0.000000</td>\n",
       "      <td>0.000000</td>\n",
       "      <td>0.000000</td>\n",
       "      <td>0.000000</td>\n",
       "      <td>0.000000</td>\n",
       "      <td>0.000000</td>\n",
       "      <td>1.000000</td>\n",
       "    </tr>\n",
       "    <tr>\n",
       "      <th>50%</th>\n",
       "      <td>0.000000</td>\n",
       "      <td>0.000000</td>\n",
       "      <td>0.000000</td>\n",
       "      <td>0.000000</td>\n",
       "      <td>0.000000</td>\n",
       "      <td>0.000000</td>\n",
       "      <td>1.000000</td>\n",
       "    </tr>\n",
       "    <tr>\n",
       "      <th>75%</th>\n",
       "      <td>0.000000</td>\n",
       "      <td>0.000000</td>\n",
       "      <td>0.000000</td>\n",
       "      <td>0.000000</td>\n",
       "      <td>0.000000</td>\n",
       "      <td>0.000000</td>\n",
       "      <td>1.000000</td>\n",
       "    </tr>\n",
       "    <tr>\n",
       "      <th>max</th>\n",
       "      <td>1.000000</td>\n",
       "      <td>1.000000</td>\n",
       "      <td>1.000000</td>\n",
       "      <td>1.000000</td>\n",
       "      <td>1.000000</td>\n",
       "      <td>1.000000</td>\n",
       "      <td>1.000000</td>\n",
       "    </tr>\n",
       "  </tbody>\n",
       "</table>\n",
       "</div>"
      ],
      "text/plain": [
       "               toxic   severe_toxic        obscene         threat  \\\n",
       "count  119678.000000  119678.000000  119678.000000  119678.000000   \n",
       "mean        0.095849       0.010102       0.052792       0.003016   \n",
       "std         0.294385       0.100001       0.223618       0.054839   \n",
       "min         0.000000       0.000000       0.000000       0.000000   \n",
       "25%         0.000000       0.000000       0.000000       0.000000   \n",
       "50%         0.000000       0.000000       0.000000       0.000000   \n",
       "75%         0.000000       0.000000       0.000000       0.000000   \n",
       "max         1.000000       1.000000       1.000000       1.000000   \n",
       "\n",
       "              insult  identity_hate           none  \n",
       "count  119678.000000  119678.000000  119678.000000  \n",
       "mean        0.049282       0.008849       0.898419  \n",
       "std         0.216458       0.093651       0.302098  \n",
       "min         0.000000       0.000000       0.000000  \n",
       "25%         0.000000       0.000000       1.000000  \n",
       "50%         0.000000       0.000000       1.000000  \n",
       "75%         0.000000       0.000000       1.000000  \n",
       "max         1.000000       1.000000       1.000000  "
      ]
     },
     "execution_count": 6,
     "metadata": {},
     "output_type": "execute_result"
    }
   ],
   "source": [
    "label_cols = ['toxic', 'severe_toxic', 'obscene', 'threat', 'insult', 'identity_hate']\n",
    "trainData['none'] = 1 - trainData[label_cols].max(axis=1)\n",
    "trainData.describe()"
   ]
  },
  {
   "cell_type": "code",
   "execution_count": 7,
   "metadata": {
    "collapsed": false
   },
   "outputs": [
    {
     "data": {
      "text/html": [
       "<div>\n",
       "<table border=\"1\" class=\"dataframe\">\n",
       "  <thead>\n",
       "    <tr style=\"text-align: right;\">\n",
       "      <th></th>\n",
       "      <th>id</th>\n",
       "      <th>comment_text</th>\n",
       "      <th>toxic</th>\n",
       "      <th>severe_toxic</th>\n",
       "      <th>obscene</th>\n",
       "      <th>threat</th>\n",
       "      <th>insult</th>\n",
       "      <th>identity_hate</th>\n",
       "      <th>none</th>\n",
       "    </tr>\n",
       "  </thead>\n",
       "  <tbody>\n",
       "    <tr>\n",
       "      <th>37189</th>\n",
       "      <td>63424c7da983066b</td>\n",
       "      <td>\":You simply refuse to hear other editors and ...</td>\n",
       "      <td>0</td>\n",
       "      <td>0</td>\n",
       "      <td>0</td>\n",
       "      <td>0</td>\n",
       "      <td>0</td>\n",
       "      <td>0</td>\n",
       "      <td>1</td>\n",
       "    </tr>\n",
       "    <tr>\n",
       "      <th>63700</th>\n",
       "      <td>aa72fbb41028624c</td>\n",
       "      <td>Its better and cooler in every way!!!!!!!!!!!!...</td>\n",
       "      <td>0</td>\n",
       "      <td>0</td>\n",
       "      <td>0</td>\n",
       "      <td>0</td>\n",
       "      <td>0</td>\n",
       "      <td>0</td>\n",
       "      <td>1</td>\n",
       "    </tr>\n",
       "    <tr>\n",
       "      <th>19121</th>\n",
       "      <td>327105ce2d50994e</td>\n",
       "      <td>Falk's own wife and close friend Joe Mantegna ...</td>\n",
       "      <td>0</td>\n",
       "      <td>0</td>\n",
       "      <td>0</td>\n",
       "      <td>0</td>\n",
       "      <td>0</td>\n",
       "      <td>0</td>\n",
       "      <td>1</td>\n",
       "    </tr>\n",
       "    <tr>\n",
       "      <th>131685</th>\n",
       "      <td>c090b61ea16f8512</td>\n",
       "      <td>\"\\n\\n Celine Dion Signings \\n\\nPlease do not c...</td>\n",
       "      <td>0</td>\n",
       "      <td>0</td>\n",
       "      <td>0</td>\n",
       "      <td>0</td>\n",
       "      <td>0</td>\n",
       "      <td>0</td>\n",
       "      <td>1</td>\n",
       "    </tr>\n",
       "    <tr>\n",
       "      <th>145169</th>\n",
       "      <td>183285923f6f8aa6</td>\n",
       "      <td>\"\\n\\nPresent Day Canada Government website inc...</td>\n",
       "      <td>0</td>\n",
       "      <td>0</td>\n",
       "      <td>0</td>\n",
       "      <td>0</td>\n",
       "      <td>0</td>\n",
       "      <td>0</td>\n",
       "      <td>1</td>\n",
       "    </tr>\n",
       "  </tbody>\n",
       "</table>\n",
       "</div>"
      ],
      "text/plain": [
       "                      id                                       comment_text  \\\n",
       "37189   63424c7da983066b  \":You simply refuse to hear other editors and ...   \n",
       "63700   aa72fbb41028624c  Its better and cooler in every way!!!!!!!!!!!!...   \n",
       "19121   327105ce2d50994e  Falk's own wife and close friend Joe Mantegna ...   \n",
       "131685  c090b61ea16f8512  \"\\n\\n Celine Dion Signings \\n\\nPlease do not c...   \n",
       "145169  183285923f6f8aa6  \"\\n\\nPresent Day Canada Government website inc...   \n",
       "\n",
       "        toxic  severe_toxic  obscene  threat  insult  identity_hate  none  \n",
       "37189       0             0        0       0       0              0     1  \n",
       "63700       0             0        0       0       0              0     1  \n",
       "19121       0             0        0       0       0              0     1  \n",
       "131685      0             0        0       0       0              0     1  \n",
       "145169      0             0        0       0       0              0     1  "
      ]
     },
     "execution_count": 7,
     "metadata": {},
     "output_type": "execute_result"
    }
   ],
   "source": [
    "trainData.head()"
   ]
  },
  {
   "cell_type": "code",
   "execution_count": 8,
   "metadata": {
    "collapsed": false
   },
   "outputs": [],
   "source": [
    "#trainDataLabels = trainData[label_cols] "
   ]
  },
  {
   "cell_type": "code",
   "execution_count": 9,
   "metadata": {
    "collapsed": false
   },
   "outputs": [
    {
     "data": {
      "text/plain": [
       "toxic            int64\n",
       "severe_toxic     int64\n",
       "obscene          int64\n",
       "threat           int64\n",
       "insult           int64\n",
       "identity_hate    int64\n",
       "dtype: object"
      ]
     },
     "execution_count": 9,
     "metadata": {},
     "output_type": "execute_result"
    }
   ],
   "source": [
    "#trainDataLabels.dtypes"
   ]
  },
  {
   "cell_type": "code",
   "execution_count": 10,
   "metadata": {
    "collapsed": false
   },
   "outputs": [
    {
     "data": {
      "text/plain": [
       "(159571, 6)"
      ]
     },
     "execution_count": 10,
     "metadata": {},
     "output_type": "execute_result"
    }
   ],
   "source": [
    "#trainDataLabels.shape"
   ]
  },
  {
   "cell_type": "code",
   "execution_count": 11,
   "metadata": {
    "collapsed": false
   },
   "outputs": [],
   "source": [
    "#trainDocs, testDocs, trainLabels, testLabels = train_test_split(trainData.comment_text, trainDataLabels)"
   ]
  },
  {
   "cell_type": "code",
   "execution_count": 12,
   "metadata": {
    "collapsed": false
   },
   "outputs": [
    {
     "name": "stdout",
     "output_type": "stream",
     "text": [
      "(119678,) (39893,) (119678, 6) (39893, 6)\n"
     ]
    }
   ],
   "source": [
    "#print(trainDocs.shape, testDocs.shape, trainLabels.shape, testLabels.shape)"
   ]
  },
  {
   "cell_type": "code",
   "execution_count": 9,
   "metadata": {
    "collapsed": false
   },
   "outputs": [
    {
     "data": {
      "text/html": [
       "<div>\n",
       "<table border=\"1\" class=\"dataframe\">\n",
       "  <thead>\n",
       "    <tr style=\"text-align: right;\">\n",
       "      <th></th>\n",
       "      <th>id</th>\n",
       "      <th>comment_text</th>\n",
       "      <th>toxic</th>\n",
       "      <th>severe_toxic</th>\n",
       "      <th>obscene</th>\n",
       "      <th>threat</th>\n",
       "      <th>insult</th>\n",
       "      <th>identity_hate</th>\n",
       "      <th>none</th>\n",
       "    </tr>\n",
       "  </thead>\n",
       "  <tbody>\n",
       "    <tr>\n",
       "      <th>16006</th>\n",
       "      <td>2a3a48e6463ee509</td>\n",
       "      <td>BECAUSE HE IS A FAGOT</td>\n",
       "      <td>1</td>\n",
       "      <td>0</td>\n",
       "      <td>1</td>\n",
       "      <td>0</td>\n",
       "      <td>0</td>\n",
       "      <td>1</td>\n",
       "      <td>0</td>\n",
       "    </tr>\n",
       "    <tr>\n",
       "      <th>102881</th>\n",
       "      <td>269ff30444c96d18</td>\n",
       "      <td>I did'nt vandalize anything. Faggot. 166.248.6...</td>\n",
       "      <td>1</td>\n",
       "      <td>0</td>\n",
       "      <td>1</td>\n",
       "      <td>0</td>\n",
       "      <td>1</td>\n",
       "      <td>0</td>\n",
       "      <td>0</td>\n",
       "    </tr>\n",
       "    <tr>\n",
       "      <th>105270</th>\n",
       "      <td>332d75516174c0d1</td>\n",
       "      <td>Leave our country. \\n\\nWe don't want you Arabs...</td>\n",
       "      <td>1</td>\n",
       "      <td>0</td>\n",
       "      <td>0</td>\n",
       "      <td>0</td>\n",
       "      <td>0</td>\n",
       "      <td>1</td>\n",
       "      <td>0</td>\n",
       "    </tr>\n",
       "    <tr>\n",
       "      <th>56279</th>\n",
       "      <td>96652d8e8b2a9b4f</td>\n",
       "      <td>Tread along dear boy  \\n\\nGoway ya fool you th...</td>\n",
       "      <td>1</td>\n",
       "      <td>0</td>\n",
       "      <td>0</td>\n",
       "      <td>0</td>\n",
       "      <td>0</td>\n",
       "      <td>0</td>\n",
       "      <td>0</td>\n",
       "    </tr>\n",
       "    <tr>\n",
       "      <th>109186</th>\n",
       "      <td>47e79dce09f476cd</td>\n",
       "      <td>Idiotic Sad Case \\n\\nYou're an ugly dumb slut ...</td>\n",
       "      <td>1</td>\n",
       "      <td>0</td>\n",
       "      <td>1</td>\n",
       "      <td>0</td>\n",
       "      <td>1</td>\n",
       "      <td>0</td>\n",
       "      <td>0</td>\n",
       "    </tr>\n",
       "  </tbody>\n",
       "</table>\n",
       "</div>"
      ],
      "text/plain": [
       "                      id                                       comment_text  \\\n",
       "16006   2a3a48e6463ee509                              BECAUSE HE IS A FAGOT   \n",
       "102881  269ff30444c96d18  I did'nt vandalize anything. Faggot. 166.248.6...   \n",
       "105270  332d75516174c0d1  Leave our country. \\n\\nWe don't want you Arabs...   \n",
       "56279   96652d8e8b2a9b4f  Tread along dear boy  \\n\\nGoway ya fool you th...   \n",
       "109186  47e79dce09f476cd  Idiotic Sad Case \\n\\nYou're an ugly dumb slut ...   \n",
       "\n",
       "        toxic  severe_toxic  obscene  threat  insult  identity_hate  none  \n",
       "16006       1             0        1       0       0              1     0  \n",
       "102881      1             0        1       0       1              0     0  \n",
       "105270      1             0        0       0       0              1     0  \n",
       "56279       1             0        0       0       0              0     0  \n",
       "109186      1             0        1       0       1              0     0  "
      ]
     },
     "execution_count": 9,
     "metadata": {},
     "output_type": "execute_result"
    }
   ],
   "source": [
    "trainData[trainData.toxic==1].sample(5)"
   ]
  },
  {
   "cell_type": "code",
   "execution_count": 28,
   "metadata": {
    "collapsed": false
   },
   "outputs": [
    {
     "data": {
      "text/plain": [
       "(119678, 2004598)"
      ]
     },
     "execution_count": 28,
     "metadata": {},
     "output_type": "execute_result"
    }
   ],
   "source": [
    "from sklearn.feature_extraction.text import TfidfVectorizer\n",
    "tfidfv = TfidfVectorizer(ngram_range=(1,2)) # ToDo: try min_df=3\n",
    "# Also: max_df=0.9, strip_accents='unicode', use_idf=1, smooth_idf=1, sublinear_tf=1\n",
    "# tokenizer=tokenize where tokenize is defined in Jeremy Howard's NB-SVM\n",
    "trainDocsTfidf = tfidfv.fit_transform(trainData.comment_text)\n",
    "trainDocsTfidf.shape"
   ]
  },
  {
   "cell_type": "code",
   "execution_count": 29,
   "metadata": {
    "collapsed": false
   },
   "outputs": [],
   "source": [
    "from sklearn.naive_bayes import MultinomialNB\n",
    "labelsClf = { label: MultinomialNB().fit(trainDocsTfidf, trainData[label]) for label in label_cols}"
   ]
  },
  {
   "cell_type": "code",
   "execution_count": 30,
   "metadata": {
    "collapsed": false
   },
   "outputs": [
    {
     "name": "stdout",
     "output_type": "stream",
     "text": [
      "(2, 2004598)\n",
      "toxic [1 0]\n",
      "severe_toxic [0 0]\n",
      "obscene [0 0]\n",
      "threat [0 0]\n",
      "insult [0 0]\n",
      "identity_hate [0 0]\n"
     ]
    }
   ],
   "source": [
    "testdocs = ['Fucking pig', 'Love love love.']\n",
    "testdocs_tfidf = tfidfv.transform(testdocs)\n",
    "print(testdocs_tfidf.shape)\n",
    "for label in label_cols:\n",
    "    print(label, labelsClf[label].predict(testdocs_tfidf))"
   ]
  },
  {
   "cell_type": "code",
   "execution_count": 31,
   "metadata": {
    "collapsed": false
   },
   "outputs": [
    {
     "name": "stdout",
     "output_type": "stream",
     "text": [
      "toxic 0.910686085278\n",
      "severe_toxic 0.990324117013\n",
      "obscene 0.948512270323\n",
      "threat 0.997067154639\n",
      "insult 0.950642969945\n",
      "identity_hate 0.991326799188\n"
     ]
    }
   ],
   "source": [
    "# For local test only\n",
    "testdocs_tfidf = tfidfv.transform(testData.comment_text)\n",
    "for label in label_cols:\n",
    "    testPredicts = labelsClf[label].predict(testdocs_tfidf)\n",
    "    print(label, np.mean(testPredicts==testData[label]))"
   ]
  },
  {
   "cell_type": "markdown",
   "metadata": {},
   "source": [
    "The accuracy result as executed at 5:50pm 2/15 are shown in the middle column.\n",
    "The far right column shows the accuracies of Jeremy Howard's [NB-SVM kernel](https://www.kaggle.com/jhoward/nb-svm-strong-linear-baseline/notebook), modified to use 9% of the training data to fit in my computer. \n",
    "\n",
    "| label | NB-SVM | my base | 3-gram | 2-gram |\n",
    "| ----- | ------ | ------- | ------ | ------ |\n",
    "| toxic | 0.9242 | 0.9197 | \\>0.9089 | \\>0.9107\n",
    "| severe_toxic | 0.9881 | 0.9897 | <0.9903 | <0.9903 |\n",
    "| obscene | 0.9492 | 0.9524 | \\>0.9479 | \\>0.9485 |\n",
    "| threat | 0.9944 | 0.9971 | =0.9971 | ~=0.9970 |\n",
    "| insult | 0.9518 | 0.9527 | \\>0.9506 | \\>0.9506 |\n",
    "| identity_hate | 0.9893 | 0.9914 | ~=0.9913 | ~=0.9913 |"
   ]
  },
  {
   "cell_type": "code",
   "execution_count": 16,
   "metadata": {
    "collapsed": false
   },
   "outputs": [
    {
     "data": {
      "text/plain": [
       "39893"
      ]
     },
     "execution_count": 16,
     "metadata": {},
     "output_type": "execute_result"
    }
   ],
   "source": [
    "len(testData)"
   ]
  },
  {
   "cell_type": "code",
   "execution_count": 22,
   "metadata": {
    "collapsed": false
   },
   "outputs": [],
   "source": [
    "# For Kaggle\n",
    "preds = np.zeros((len(testData), len(label_cols)))\n",
    "testdocs_tfidf = tfidfv.transform(testData.comment_text)\n",
    "for i, label in enumerate(label_cols):\n",
    "    preds[:,i] = labelsClf[label].predict_proba(testdocs_tfidf)[:,1]\n",
    "#subm = pd.read_csv(\"data/sample_submission.csv\")\n",
    "submid = pd.DataFrame({'id': subm[\"id\"]})\n",
    "submission = pd.concat([submid, pd.DataFrame(preds, columns = label_cols)], axis=1)\n",
    "submission.to_csv('submission.csv', index=False)"
   ]
  },
  {
   "cell_type": "code",
   "execution_count": 20,
   "metadata": {
    "collapsed": false
   },
   "outputs": [
    {
     "data": {
      "text/plain": [
       "(39893, 6)"
      ]
     },
     "execution_count": 20,
     "metadata": {},
     "output_type": "execute_result"
    }
   ],
   "source": [
    "preds.shape"
   ]
  },
  {
   "cell_type": "code",
   "execution_count": null,
   "metadata": {
    "collapsed": true
   },
   "outputs": [],
   "source": []
  }
 ],
 "metadata": {
  "kernelspec": {
   "display_name": "Python 2",
   "language": "python",
   "name": "python2"
  },
  "language_info": {
   "codemirror_mode": {
    "name": "ipython",
    "version": 2
   },
   "file_extension": ".py",
   "mimetype": "text/x-python",
   "name": "python",
   "nbconvert_exporter": "python",
   "pygments_lexer": "ipython2",
   "version": "2.7.13"
  }
 },
 "nbformat": 4,
 "nbformat_minor": 2
}
